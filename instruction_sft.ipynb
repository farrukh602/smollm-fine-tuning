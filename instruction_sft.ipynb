{
 "cells": [
  {
   "cell_type": "code",
   "execution_count": 1,
   "metadata": {},
   "outputs": [],
   "source": [
    "from dotenv import load_dotenv\n",
    "load_dotenv()\n",
    "import os\n",
    "openai_api=os.getenv('openai_api')\n",
    "gemini_api=os.getenv('gemini_api')\n",
    "\n",
    "from langchain_openai import ChatOpenAI\n",
    "from langchain_google_genai import GoogleGenerativeAI\n",
    "llm=GoogleGenerativeAI(model='gemini-pro',\n",
    "                       api_key=gemini_api)"
   ]
  },
  {
   "cell_type": "code",
   "execution_count": 3,
   "metadata": {},
   "outputs": [],
   "source": [
    "from operator import add\n",
    "from typing import Literal, Annotated\n",
    "from typing_extensions import TypedDict\n",
    "\n",
    "from langgraph.graph import StateGraph, START, END\n",
    "\n"
   ]
  },
  {
   "cell_type": "code",
   "execution_count": 9,
   "metadata": {},
   "outputs": [],
   "source": [
    "class InputState(TypedDict):\n",
    "    question: str\n",
    "class OutputState(TypedDict):\n",
    "    answer: str\n",
    "class OverallState(TypedDict):\n",
    "    question: str\n",
    "    answer: str\n",
    "    notes: str\n",
    "\n",
    "\n",
    "def thinking_node(state: InputState)->OutputState:\n",
    "    return {\"answer\":\"bye\",'notes':'taking input state as InputState and writing the Overall State'}\n",
    "def answer_node(state:OverallState):\n",
    "    return {\"answer\":\"Bye you\"}\n",
    "\n",
    "builder=StateGraph(OverallState)\n",
    "builder.add_node(\"answer_node\",answer_node)\n",
    "builder.add_node(\"thinking_node\",thinking_node)\n",
    "\n",
    "builder.add_edge(START,\"thinking_node\"),\n",
    "builder.add_edge(\"thinking_node\",\"answer_node\")\n",
    "builder.add_edge(\"answer_node\",END\n",
    "                 \n",
    "                 )\n",
    "\n",
    "graph=builder.compile()"
   ]
  },
  {
   "cell_type": "code",
   "execution_count": 10,
   "metadata": {},
   "outputs": [
    {
     "data": {
      "text/plain": [
       "{'question': 'hi',\n",
       " 'answer': 'Bye you',\n",
       " 'notes': 'taking input state as InputState and writing the Overall State'}"
      ]
     },
     "execution_count": 10,
     "metadata": {},
     "output_type": "execute_result"
    }
   ],
   "source": [
    "graph.invoke({\"question\":\"hi\"})"
   ]
  }
 ],
 "metadata": {
  "kernelspec": {
   "display_name": ".venv",
   "language": "python",
   "name": "python3"
  },
  "language_info": {
   "codemirror_mode": {
    "name": "ipython",
    "version": 3
   },
   "file_extension": ".py",
   "mimetype": "text/x-python",
   "name": "python",
   "nbconvert_exporter": "python",
   "pygments_lexer": "ipython3",
   "version": "3.12.4"
  }
 },
 "nbformat": 4,
 "nbformat_minor": 2
}
